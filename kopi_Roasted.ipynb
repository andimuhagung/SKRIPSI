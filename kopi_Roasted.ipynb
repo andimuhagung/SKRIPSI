{
  "nbformat": 4,
  "nbformat_minor": 0,
  "metadata": {
    "colab": {
      "provenance": []
    },
    "kernelspec": {
      "name": "python3",
      "display_name": "Python 3"
    },
    "language_info": {
      "name": "python"
    }
  },
  "cells": [
    {
      "cell_type": "code",
      "execution_count": null,
      "metadata": {
        "id": "7W5_xxB--3e0"
      },
      "outputs": [],
      "source": [
        "#Importing necessary Libraries\n",
        "import numpy as np\n",
        "import pandas as pd\n",
        "import tensorflow as tf\n",
        "\n",
        "from sklearn.model_selection import train_test_split\n",
        "from sklearn.metrics import confusion_matrix\n",
        "from sklearn.multiclass import OneVsRestClassifier\n",
        "\n",
        "import matplotlib.pyplot as plt\n",
        "import seaborn as sns\n"
      ]
    },
    {
      "cell_type": "code",
      "source": [
        "!wget --no-check-certificate 'https://drive.google.com/uc?export=download&id=1XsBETpoL5EM5B85Ak2QaaQQdYNFOunuE' -O 'Roasted2Coffe.xlsx'"
      ],
      "metadata": {
        "colab": {
          "base_uri": "https://localhost:8080/"
        },
        "id": "cUf1Bsc-diVL",
        "outputId": "e2a34d87-4f61-4f30-81ff-5337552109d3"
      },
      "execution_count": null,
      "outputs": [
        {
          "output_type": "stream",
          "name": "stdout",
          "text": [
            "--2023-01-25 05:50:49--  https://drive.google.com/uc?export=download&id=1XsBETpoL5EM5B85Ak2QaaQQdYNFOunuE\n",
            "Resolving drive.google.com (drive.google.com)... 142.251.2.113, 142.251.2.100, 142.251.2.138, ...\n",
            "Connecting to drive.google.com (drive.google.com)|142.251.2.113|:443... connected.\n",
            "HTTP request sent, awaiting response... 303 See Other\n",
            "Location: https://doc-0k-4k-docs.googleusercontent.com/docs/securesc/ha0ro937gcuc7l7deffksulhg5h7mbp1/scrp3m1l0h178b01rv2jkovmtaavcqid/1674625800000/16540799270413311004/*/1XsBETpoL5EM5B85Ak2QaaQQdYNFOunuE?e=download&uuid=8cd60e9d-8943-4784-b50e-5c72ee13a1ff [following]\n",
            "Warning: wildcards not supported in HTTP.\n",
            "--2023-01-25 05:50:50--  https://doc-0k-4k-docs.googleusercontent.com/docs/securesc/ha0ro937gcuc7l7deffksulhg5h7mbp1/scrp3m1l0h178b01rv2jkovmtaavcqid/1674625800000/16540799270413311004/*/1XsBETpoL5EM5B85Ak2QaaQQdYNFOunuE?e=download&uuid=8cd60e9d-8943-4784-b50e-5c72ee13a1ff\n",
            "Resolving doc-0k-4k-docs.googleusercontent.com (doc-0k-4k-docs.googleusercontent.com)... 142.251.2.132, 2607:f8b0:4023:c0d::84\n",
            "Connecting to doc-0k-4k-docs.googleusercontent.com (doc-0k-4k-docs.googleusercontent.com)|142.251.2.132|:443... connected.\n",
            "HTTP request sent, awaiting response... 200 OK\n",
            "Length: 55328 (54K) [application/vnd.openxmlformats-officedocument.spreadsheetml.sheet]\n",
            "Saving to: ‘Roasted2Coffe.xlsx’\n",
            "\n",
            "Roasted2Coffe.xlsx  100%[===================>]  54.03K  --.-KB/s    in 0s      \n",
            "\n",
            "2023-01-25 05:50:51 (112 MB/s) - ‘Roasted2Coffe.xlsx’ saved [55328/55328]\n",
            "\n"
          ]
        }
      ]
    },
    {
      "cell_type": "code",
      "source": [
        "!wget --no-check-certificate 'https://drive.google.com/uc?export=download&id=1k2r0DfyGJaRxVY2bVREqcpV7ttSs8CSB' -O 'Roasted.xlsx'"
      ],
      "metadata": {
        "colab": {
          "base_uri": "https://localhost:8080/"
        },
        "id": "6RqqmOx0ADwo",
        "outputId": "023e6c23-d714-48d1-f920-7f5487eef006"
      },
      "execution_count": null,
      "outputs": [
        {
          "output_type": "stream",
          "name": "stdout",
          "text": [
            "--2023-01-25 05:50:51--  https://drive.google.com/uc?export=download&id=1k2r0DfyGJaRxVY2bVREqcpV7ttSs8CSB\n",
            "Resolving drive.google.com (drive.google.com)... 142.251.2.113, 142.251.2.100, 142.251.2.138, ...\n",
            "Connecting to drive.google.com (drive.google.com)|142.251.2.113|:443... connected.\n",
            "HTTP request sent, awaiting response... 303 See Other\n",
            "Location: https://doc-14-7k-docs.googleusercontent.com/docs/securesc/ha0ro937gcuc7l7deffksulhg5h7mbp1/6kemai2nauqsv9h57ibb78mf5cd9bnsb/1674625800000/10842872470776738560/*/1k2r0DfyGJaRxVY2bVREqcpV7ttSs8CSB?e=download&uuid=1aaac560-af0b-450a-ba02-fd7a0f7ad8b3 [following]\n",
            "Warning: wildcards not supported in HTTP.\n",
            "--2023-01-25 05:50:51--  https://doc-14-7k-docs.googleusercontent.com/docs/securesc/ha0ro937gcuc7l7deffksulhg5h7mbp1/6kemai2nauqsv9h57ibb78mf5cd9bnsb/1674625800000/10842872470776738560/*/1k2r0DfyGJaRxVY2bVREqcpV7ttSs8CSB?e=download&uuid=1aaac560-af0b-450a-ba02-fd7a0f7ad8b3\n",
            "Resolving doc-14-7k-docs.googleusercontent.com (doc-14-7k-docs.googleusercontent.com)... 142.251.2.132, 2607:f8b0:4023:c0d::84\n",
            "Connecting to doc-14-7k-docs.googleusercontent.com (doc-14-7k-docs.googleusercontent.com)|142.251.2.132|:443... connected.\n",
            "HTTP request sent, awaiting response... 200 OK\n",
            "Length: 34724 (34K) [application/vnd.openxmlformats-officedocument.spreadsheetml.sheet]\n",
            "Saving to: ‘Roasted.xlsx’\n",
            "\n",
            "Roasted.xlsx        100%[===================>]  33.91K  --.-KB/s    in 0s      \n",
            "\n",
            "2023-01-25 05:50:52 (104 MB/s) - ‘Roasted.xlsx’ saved [34724/34724]\n",
            "\n"
          ]
        }
      ]
    },
    {
      "cell_type": "code",
      "source": [
        "!wget --no-check-certificate 'https://drive.google.com/uc?export=download&id=1kuh0fUn7RFsEOI8BfAjaSat0MOdl_9Zr' -O 'RoastedCoffee.xlsx'"
      ],
      "metadata": {
        "colab": {
          "base_uri": "https://localhost:8080/"
        },
        "id": "l_uQL5znBSBD",
        "outputId": "e2d6373d-eb05-45fc-836a-fd4098fbb734"
      },
      "execution_count": null,
      "outputs": [
        {
          "output_type": "stream",
          "name": "stdout",
          "text": [
            "--2023-01-25 05:50:52--  https://drive.google.com/uc?export=download&id=1kuh0fUn7RFsEOI8BfAjaSat0MOdl_9Zr\n",
            "Resolving drive.google.com (drive.google.com)... 142.251.2.113, 142.251.2.100, 142.251.2.138, ...\n",
            "Connecting to drive.google.com (drive.google.com)|142.251.2.113|:443... connected.\n",
            "HTTP request sent, awaiting response... 303 See Other\n",
            "Location: https://doc-0c-7k-docs.googleusercontent.com/docs/securesc/ha0ro937gcuc7l7deffksulhg5h7mbp1/blbckbaroa82j9a9jvmrt9ht1ljb7upb/1674625800000/10842872470776738560/*/1kuh0fUn7RFsEOI8BfAjaSat0MOdl_9Zr?e=download&uuid=1070356f-2f2a-4a01-8412-e3a3f231b955 [following]\n",
            "Warning: wildcards not supported in HTTP.\n",
            "--2023-01-25 05:50:53--  https://doc-0c-7k-docs.googleusercontent.com/docs/securesc/ha0ro937gcuc7l7deffksulhg5h7mbp1/blbckbaroa82j9a9jvmrt9ht1ljb7upb/1674625800000/10842872470776738560/*/1kuh0fUn7RFsEOI8BfAjaSat0MOdl_9Zr?e=download&uuid=1070356f-2f2a-4a01-8412-e3a3f231b955\n",
            "Resolving doc-0c-7k-docs.googleusercontent.com (doc-0c-7k-docs.googleusercontent.com)... 142.251.2.132, 2607:f8b0:4023:c0d::84\n",
            "Connecting to doc-0c-7k-docs.googleusercontent.com (doc-0c-7k-docs.googleusercontent.com)|142.251.2.132|:443... connected.\n",
            "HTTP request sent, awaiting response... 200 OK\n",
            "Length: 47840 (47K) [application/vnd.openxmlformats-officedocument.spreadsheetml.sheet]\n",
            "Saving to: ‘RoastedCoffee.xlsx’\n",
            "\n",
            "RoastedCoffee.xlsx  100%[===================>]  46.72K  --.-KB/s    in 0s      \n",
            "\n",
            "2023-01-25 05:50:53 (97.5 MB/s) - ‘RoastedCoffee.xlsx’ saved [47840/47840]\n",
            "\n"
          ]
        }
      ]
    },
    {
      "cell_type": "code",
      "source": [
        "#Loading Dataset\n",
        "data = pd.read_excel(\"Roasted2Coffe.xlsx\")\n",
        "data"
      ],
      "metadata": {
        "colab": {
          "base_uri": "https://localhost:8080/",
          "height": 423
        },
        "id": "8OQXp5hTBgXc",
        "outputId": "fe7150d9-a999-4b71-e71a-6ff775ae07cb"
      },
      "execution_count": null,
      "outputs": [
        {
          "output_type": "execute_result",
          "data": {
            "text/plain": [
              "     MQ2  MQ3  MQ4  MQ5  MQ6  MQ8  MQ9  MQ135  MQ136  Label\n",
              "0    413  408  476  193  464  305  230    157    581      0\n",
              "1    414  402  476  192  467  304  226    143    581      0\n",
              "2    415  401  477  192  469  306  227    145    582      0\n",
              "3    416  404  478  192  472  305  229    145    582      0\n",
              "4    417  406  479  192  475  305  231    149    582      0\n",
              "..   ...  ...  ...  ...  ...  ...  ...    ...    ...    ...\n",
              "895  223  497  485  116  453  430  197    594    547      2\n",
              "896  228  493  487  122  456  290  203    236    553      2\n",
              "897  221  501  492  116  453  344  201    189    517      2\n",
              "898  222  501  483  115  456  231  199    220    521      2\n",
              "899  228  504  476  120  454  345  198    231    526      2\n",
              "\n",
              "[900 rows x 10 columns]"
            ],
            "text/html": [
              "\n",
              "  <div id=\"df-83adc044-115d-4073-94ab-5a784e4fc1ac\">\n",
              "    <div class=\"colab-df-container\">\n",
              "      <div>\n",
              "<style scoped>\n",
              "    .dataframe tbody tr th:only-of-type {\n",
              "        vertical-align: middle;\n",
              "    }\n",
              "\n",
              "    .dataframe tbody tr th {\n",
              "        vertical-align: top;\n",
              "    }\n",
              "\n",
              "    .dataframe thead th {\n",
              "        text-align: right;\n",
              "    }\n",
              "</style>\n",
              "<table border=\"1\" class=\"dataframe\">\n",
              "  <thead>\n",
              "    <tr style=\"text-align: right;\">\n",
              "      <th></th>\n",
              "      <th>MQ2</th>\n",
              "      <th>MQ3</th>\n",
              "      <th>MQ4</th>\n",
              "      <th>MQ5</th>\n",
              "      <th>MQ6</th>\n",
              "      <th>MQ8</th>\n",
              "      <th>MQ9</th>\n",
              "      <th>MQ135</th>\n",
              "      <th>MQ136</th>\n",
              "      <th>Label</th>\n",
              "    </tr>\n",
              "  </thead>\n",
              "  <tbody>\n",
              "    <tr>\n",
              "      <th>0</th>\n",
              "      <td>413</td>\n",
              "      <td>408</td>\n",
              "      <td>476</td>\n",
              "      <td>193</td>\n",
              "      <td>464</td>\n",
              "      <td>305</td>\n",
              "      <td>230</td>\n",
              "      <td>157</td>\n",
              "      <td>581</td>\n",
              "      <td>0</td>\n",
              "    </tr>\n",
              "    <tr>\n",
              "      <th>1</th>\n",
              "      <td>414</td>\n",
              "      <td>402</td>\n",
              "      <td>476</td>\n",
              "      <td>192</td>\n",
              "      <td>467</td>\n",
              "      <td>304</td>\n",
              "      <td>226</td>\n",
              "      <td>143</td>\n",
              "      <td>581</td>\n",
              "      <td>0</td>\n",
              "    </tr>\n",
              "    <tr>\n",
              "      <th>2</th>\n",
              "      <td>415</td>\n",
              "      <td>401</td>\n",
              "      <td>477</td>\n",
              "      <td>192</td>\n",
              "      <td>469</td>\n",
              "      <td>306</td>\n",
              "      <td>227</td>\n",
              "      <td>145</td>\n",
              "      <td>582</td>\n",
              "      <td>0</td>\n",
              "    </tr>\n",
              "    <tr>\n",
              "      <th>3</th>\n",
              "      <td>416</td>\n",
              "      <td>404</td>\n",
              "      <td>478</td>\n",
              "      <td>192</td>\n",
              "      <td>472</td>\n",
              "      <td>305</td>\n",
              "      <td>229</td>\n",
              "      <td>145</td>\n",
              "      <td>582</td>\n",
              "      <td>0</td>\n",
              "    </tr>\n",
              "    <tr>\n",
              "      <th>4</th>\n",
              "      <td>417</td>\n",
              "      <td>406</td>\n",
              "      <td>479</td>\n",
              "      <td>192</td>\n",
              "      <td>475</td>\n",
              "      <td>305</td>\n",
              "      <td>231</td>\n",
              "      <td>149</td>\n",
              "      <td>582</td>\n",
              "      <td>0</td>\n",
              "    </tr>\n",
              "    <tr>\n",
              "      <th>...</th>\n",
              "      <td>...</td>\n",
              "      <td>...</td>\n",
              "      <td>...</td>\n",
              "      <td>...</td>\n",
              "      <td>...</td>\n",
              "      <td>...</td>\n",
              "      <td>...</td>\n",
              "      <td>...</td>\n",
              "      <td>...</td>\n",
              "      <td>...</td>\n",
              "    </tr>\n",
              "    <tr>\n",
              "      <th>895</th>\n",
              "      <td>223</td>\n",
              "      <td>497</td>\n",
              "      <td>485</td>\n",
              "      <td>116</td>\n",
              "      <td>453</td>\n",
              "      <td>430</td>\n",
              "      <td>197</td>\n",
              "      <td>594</td>\n",
              "      <td>547</td>\n",
              "      <td>2</td>\n",
              "    </tr>\n",
              "    <tr>\n",
              "      <th>896</th>\n",
              "      <td>228</td>\n",
              "      <td>493</td>\n",
              "      <td>487</td>\n",
              "      <td>122</td>\n",
              "      <td>456</td>\n",
              "      <td>290</td>\n",
              "      <td>203</td>\n",
              "      <td>236</td>\n",
              "      <td>553</td>\n",
              "      <td>2</td>\n",
              "    </tr>\n",
              "    <tr>\n",
              "      <th>897</th>\n",
              "      <td>221</td>\n",
              "      <td>501</td>\n",
              "      <td>492</td>\n",
              "      <td>116</td>\n",
              "      <td>453</td>\n",
              "      <td>344</td>\n",
              "      <td>201</td>\n",
              "      <td>189</td>\n",
              "      <td>517</td>\n",
              "      <td>2</td>\n",
              "    </tr>\n",
              "    <tr>\n",
              "      <th>898</th>\n",
              "      <td>222</td>\n",
              "      <td>501</td>\n",
              "      <td>483</td>\n",
              "      <td>115</td>\n",
              "      <td>456</td>\n",
              "      <td>231</td>\n",
              "      <td>199</td>\n",
              "      <td>220</td>\n",
              "      <td>521</td>\n",
              "      <td>2</td>\n",
              "    </tr>\n",
              "    <tr>\n",
              "      <th>899</th>\n",
              "      <td>228</td>\n",
              "      <td>504</td>\n",
              "      <td>476</td>\n",
              "      <td>120</td>\n",
              "      <td>454</td>\n",
              "      <td>345</td>\n",
              "      <td>198</td>\n",
              "      <td>231</td>\n",
              "      <td>526</td>\n",
              "      <td>2</td>\n",
              "    </tr>\n",
              "  </tbody>\n",
              "</table>\n",
              "<p>900 rows × 10 columns</p>\n",
              "</div>\n",
              "      <button class=\"colab-df-convert\" onclick=\"convertToInteractive('df-83adc044-115d-4073-94ab-5a784e4fc1ac')\"\n",
              "              title=\"Convert this dataframe to an interactive table.\"\n",
              "              style=\"display:none;\">\n",
              "        \n",
              "  <svg xmlns=\"http://www.w3.org/2000/svg\" height=\"24px\"viewBox=\"0 0 24 24\"\n",
              "       width=\"24px\">\n",
              "    <path d=\"M0 0h24v24H0V0z\" fill=\"none\"/>\n",
              "    <path d=\"M18.56 5.44l.94 2.06.94-2.06 2.06-.94-2.06-.94-.94-2.06-.94 2.06-2.06.94zm-11 1L8.5 8.5l.94-2.06 2.06-.94-2.06-.94L8.5 2.5l-.94 2.06-2.06.94zm10 10l.94 2.06.94-2.06 2.06-.94-2.06-.94-.94-2.06-.94 2.06-2.06.94z\"/><path d=\"M17.41 7.96l-1.37-1.37c-.4-.4-.92-.59-1.43-.59-.52 0-1.04.2-1.43.59L10.3 9.45l-7.72 7.72c-.78.78-.78 2.05 0 2.83L4 21.41c.39.39.9.59 1.41.59.51 0 1.02-.2 1.41-.59l7.78-7.78 2.81-2.81c.8-.78.8-2.07 0-2.86zM5.41 20L4 18.59l7.72-7.72 1.47 1.35L5.41 20z\"/>\n",
              "  </svg>\n",
              "      </button>\n",
              "      \n",
              "  <style>\n",
              "    .colab-df-container {\n",
              "      display:flex;\n",
              "      flex-wrap:wrap;\n",
              "      gap: 12px;\n",
              "    }\n",
              "\n",
              "    .colab-df-convert {\n",
              "      background-color: #E8F0FE;\n",
              "      border: none;\n",
              "      border-radius: 50%;\n",
              "      cursor: pointer;\n",
              "      display: none;\n",
              "      fill: #1967D2;\n",
              "      height: 32px;\n",
              "      padding: 0 0 0 0;\n",
              "      width: 32px;\n",
              "    }\n",
              "\n",
              "    .colab-df-convert:hover {\n",
              "      background-color: #E2EBFA;\n",
              "      box-shadow: 0px 1px 2px rgba(60, 64, 67, 0.3), 0px 1px 3px 1px rgba(60, 64, 67, 0.15);\n",
              "      fill: #174EA6;\n",
              "    }\n",
              "\n",
              "    [theme=dark] .colab-df-convert {\n",
              "      background-color: #3B4455;\n",
              "      fill: #D2E3FC;\n",
              "    }\n",
              "\n",
              "    [theme=dark] .colab-df-convert:hover {\n",
              "      background-color: #434B5C;\n",
              "      box-shadow: 0px 1px 3px 1px rgba(0, 0, 0, 0.15);\n",
              "      filter: drop-shadow(0px 1px 2px rgba(0, 0, 0, 0.3));\n",
              "      fill: #FFFFFF;\n",
              "    }\n",
              "  </style>\n",
              "\n",
              "      <script>\n",
              "        const buttonEl =\n",
              "          document.querySelector('#df-83adc044-115d-4073-94ab-5a784e4fc1ac button.colab-df-convert');\n",
              "        buttonEl.style.display =\n",
              "          google.colab.kernel.accessAllowed ? 'block' : 'none';\n",
              "\n",
              "        async function convertToInteractive(key) {\n",
              "          const element = document.querySelector('#df-83adc044-115d-4073-94ab-5a784e4fc1ac');\n",
              "          const dataTable =\n",
              "            await google.colab.kernel.invokeFunction('convertToInteractive',\n",
              "                                                     [key], {});\n",
              "          if (!dataTable) return;\n",
              "\n",
              "          const docLinkHtml = 'Like what you see? Visit the ' +\n",
              "            '<a target=\"_blank\" href=https://colab.research.google.com/notebooks/data_table.ipynb>data table notebook</a>'\n",
              "            + ' to learn more about interactive tables.';\n",
              "          element.innerHTML = '';\n",
              "          dataTable['output_type'] = 'display_data';\n",
              "          await google.colab.output.renderOutput(dataTable, element);\n",
              "          const docLink = document.createElement('div');\n",
              "          docLink.innerHTML = docLinkHtml;\n",
              "          element.appendChild(docLink);\n",
              "        }\n",
              "      </script>\n",
              "    </div>\n",
              "  </div>\n",
              "  "
            ]
          },
          "metadata": {},
          "execution_count": 8
        }
      ]
    },
    {
      "cell_type": "code",
      "source": [
        "data['Label']=data['Label'].replace([0,1,2],['Light','Medium','Dark'])"
      ],
      "metadata": {
        "id": "5GapdHqo8abv"
      },
      "execution_count": null,
      "outputs": []
    },
    {
      "cell_type": "code",
      "source": [
        "data"
      ],
      "metadata": {
        "colab": {
          "base_uri": "https://localhost:8080/",
          "height": 423
        },
        "id": "NP8E7rdeczmI",
        "outputId": "d23b5bd1-5f90-4e28-97b0-678db0d2d4a6"
      },
      "execution_count": null,
      "outputs": [
        {
          "output_type": "execute_result",
          "data": {
            "text/plain": [
              "     MQ2  MQ3  MQ4  MQ5  MQ6  MQ8  MQ9  MQ135  MQ136  Label\n",
              "0    413  408  476  193  464  305  230    157    581  Light\n",
              "1    414  402  476  192  467  304  226    143    581  Light\n",
              "2    415  401  477  192  469  306  227    145    582  Light\n",
              "3    416  404  478  192  472  305  229    145    582  Light\n",
              "4    417  406  479  192  475  305  231    149    582  Light\n",
              "..   ...  ...  ...  ...  ...  ...  ...    ...    ...    ...\n",
              "895  223  497  485  116  453  430  197    594    547   Dark\n",
              "896  228  493  487  122  456  290  203    236    553   Dark\n",
              "897  221  501  492  116  453  344  201    189    517   Dark\n",
              "898  222  501  483  115  456  231  199    220    521   Dark\n",
              "899  228  504  476  120  454  345  198    231    526   Dark\n",
              "\n",
              "[900 rows x 10 columns]"
            ],
            "text/html": [
              "\n",
              "  <div id=\"df-a07aa3e4-9292-411a-b767-716f85acbb99\">\n",
              "    <div class=\"colab-df-container\">\n",
              "      <div>\n",
              "<style scoped>\n",
              "    .dataframe tbody tr th:only-of-type {\n",
              "        vertical-align: middle;\n",
              "    }\n",
              "\n",
              "    .dataframe tbody tr th {\n",
              "        vertical-align: top;\n",
              "    }\n",
              "\n",
              "    .dataframe thead th {\n",
              "        text-align: right;\n",
              "    }\n",
              "</style>\n",
              "<table border=\"1\" class=\"dataframe\">\n",
              "  <thead>\n",
              "    <tr style=\"text-align: right;\">\n",
              "      <th></th>\n",
              "      <th>MQ2</th>\n",
              "      <th>MQ3</th>\n",
              "      <th>MQ4</th>\n",
              "      <th>MQ5</th>\n",
              "      <th>MQ6</th>\n",
              "      <th>MQ8</th>\n",
              "      <th>MQ9</th>\n",
              "      <th>MQ135</th>\n",
              "      <th>MQ136</th>\n",
              "      <th>Label</th>\n",
              "    </tr>\n",
              "  </thead>\n",
              "  <tbody>\n",
              "    <tr>\n",
              "      <th>0</th>\n",
              "      <td>413</td>\n",
              "      <td>408</td>\n",
              "      <td>476</td>\n",
              "      <td>193</td>\n",
              "      <td>464</td>\n",
              "      <td>305</td>\n",
              "      <td>230</td>\n",
              "      <td>157</td>\n",
              "      <td>581</td>\n",
              "      <td>Light</td>\n",
              "    </tr>\n",
              "    <tr>\n",
              "      <th>1</th>\n",
              "      <td>414</td>\n",
              "      <td>402</td>\n",
              "      <td>476</td>\n",
              "      <td>192</td>\n",
              "      <td>467</td>\n",
              "      <td>304</td>\n",
              "      <td>226</td>\n",
              "      <td>143</td>\n",
              "      <td>581</td>\n",
              "      <td>Light</td>\n",
              "    </tr>\n",
              "    <tr>\n",
              "      <th>2</th>\n",
              "      <td>415</td>\n",
              "      <td>401</td>\n",
              "      <td>477</td>\n",
              "      <td>192</td>\n",
              "      <td>469</td>\n",
              "      <td>306</td>\n",
              "      <td>227</td>\n",
              "      <td>145</td>\n",
              "      <td>582</td>\n",
              "      <td>Light</td>\n",
              "    </tr>\n",
              "    <tr>\n",
              "      <th>3</th>\n",
              "      <td>416</td>\n",
              "      <td>404</td>\n",
              "      <td>478</td>\n",
              "      <td>192</td>\n",
              "      <td>472</td>\n",
              "      <td>305</td>\n",
              "      <td>229</td>\n",
              "      <td>145</td>\n",
              "      <td>582</td>\n",
              "      <td>Light</td>\n",
              "    </tr>\n",
              "    <tr>\n",
              "      <th>4</th>\n",
              "      <td>417</td>\n",
              "      <td>406</td>\n",
              "      <td>479</td>\n",
              "      <td>192</td>\n",
              "      <td>475</td>\n",
              "      <td>305</td>\n",
              "      <td>231</td>\n",
              "      <td>149</td>\n",
              "      <td>582</td>\n",
              "      <td>Light</td>\n",
              "    </tr>\n",
              "    <tr>\n",
              "      <th>...</th>\n",
              "      <td>...</td>\n",
              "      <td>...</td>\n",
              "      <td>...</td>\n",
              "      <td>...</td>\n",
              "      <td>...</td>\n",
              "      <td>...</td>\n",
              "      <td>...</td>\n",
              "      <td>...</td>\n",
              "      <td>...</td>\n",
              "      <td>...</td>\n",
              "    </tr>\n",
              "    <tr>\n",
              "      <th>895</th>\n",
              "      <td>223</td>\n",
              "      <td>497</td>\n",
              "      <td>485</td>\n",
              "      <td>116</td>\n",
              "      <td>453</td>\n",
              "      <td>430</td>\n",
              "      <td>197</td>\n",
              "      <td>594</td>\n",
              "      <td>547</td>\n",
              "      <td>Dark</td>\n",
              "    </tr>\n",
              "    <tr>\n",
              "      <th>896</th>\n",
              "      <td>228</td>\n",
              "      <td>493</td>\n",
              "      <td>487</td>\n",
              "      <td>122</td>\n",
              "      <td>456</td>\n",
              "      <td>290</td>\n",
              "      <td>203</td>\n",
              "      <td>236</td>\n",
              "      <td>553</td>\n",
              "      <td>Dark</td>\n",
              "    </tr>\n",
              "    <tr>\n",
              "      <th>897</th>\n",
              "      <td>221</td>\n",
              "      <td>501</td>\n",
              "      <td>492</td>\n",
              "      <td>116</td>\n",
              "      <td>453</td>\n",
              "      <td>344</td>\n",
              "      <td>201</td>\n",
              "      <td>189</td>\n",
              "      <td>517</td>\n",
              "      <td>Dark</td>\n",
              "    </tr>\n",
              "    <tr>\n",
              "      <th>898</th>\n",
              "      <td>222</td>\n",
              "      <td>501</td>\n",
              "      <td>483</td>\n",
              "      <td>115</td>\n",
              "      <td>456</td>\n",
              "      <td>231</td>\n",
              "      <td>199</td>\n",
              "      <td>220</td>\n",
              "      <td>521</td>\n",
              "      <td>Dark</td>\n",
              "    </tr>\n",
              "    <tr>\n",
              "      <th>899</th>\n",
              "      <td>228</td>\n",
              "      <td>504</td>\n",
              "      <td>476</td>\n",
              "      <td>120</td>\n",
              "      <td>454</td>\n",
              "      <td>345</td>\n",
              "      <td>198</td>\n",
              "      <td>231</td>\n",
              "      <td>526</td>\n",
              "      <td>Dark</td>\n",
              "    </tr>\n",
              "  </tbody>\n",
              "</table>\n",
              "<p>900 rows × 10 columns</p>\n",
              "</div>\n",
              "      <button class=\"colab-df-convert\" onclick=\"convertToInteractive('df-a07aa3e4-9292-411a-b767-716f85acbb99')\"\n",
              "              title=\"Convert this dataframe to an interactive table.\"\n",
              "              style=\"display:none;\">\n",
              "        \n",
              "  <svg xmlns=\"http://www.w3.org/2000/svg\" height=\"24px\"viewBox=\"0 0 24 24\"\n",
              "       width=\"24px\">\n",
              "    <path d=\"M0 0h24v24H0V0z\" fill=\"none\"/>\n",
              "    <path d=\"M18.56 5.44l.94 2.06.94-2.06 2.06-.94-2.06-.94-.94-2.06-.94 2.06-2.06.94zm-11 1L8.5 8.5l.94-2.06 2.06-.94-2.06-.94L8.5 2.5l-.94 2.06-2.06.94zm10 10l.94 2.06.94-2.06 2.06-.94-2.06-.94-.94-2.06-.94 2.06-2.06.94z\"/><path d=\"M17.41 7.96l-1.37-1.37c-.4-.4-.92-.59-1.43-.59-.52 0-1.04.2-1.43.59L10.3 9.45l-7.72 7.72c-.78.78-.78 2.05 0 2.83L4 21.41c.39.39.9.59 1.41.59.51 0 1.02-.2 1.41-.59l7.78-7.78 2.81-2.81c.8-.78.8-2.07 0-2.86zM5.41 20L4 18.59l7.72-7.72 1.47 1.35L5.41 20z\"/>\n",
              "  </svg>\n",
              "      </button>\n",
              "      \n",
              "  <style>\n",
              "    .colab-df-container {\n",
              "      display:flex;\n",
              "      flex-wrap:wrap;\n",
              "      gap: 12px;\n",
              "    }\n",
              "\n",
              "    .colab-df-convert {\n",
              "      background-color: #E8F0FE;\n",
              "      border: none;\n",
              "      border-radius: 50%;\n",
              "      cursor: pointer;\n",
              "      display: none;\n",
              "      fill: #1967D2;\n",
              "      height: 32px;\n",
              "      padding: 0 0 0 0;\n",
              "      width: 32px;\n",
              "    }\n",
              "\n",
              "    .colab-df-convert:hover {\n",
              "      background-color: #E2EBFA;\n",
              "      box-shadow: 0px 1px 2px rgba(60, 64, 67, 0.3), 0px 1px 3px 1px rgba(60, 64, 67, 0.15);\n",
              "      fill: #174EA6;\n",
              "    }\n",
              "\n",
              "    [theme=dark] .colab-df-convert {\n",
              "      background-color: #3B4455;\n",
              "      fill: #D2E3FC;\n",
              "    }\n",
              "\n",
              "    [theme=dark] .colab-df-convert:hover {\n",
              "      background-color: #434B5C;\n",
              "      box-shadow: 0px 1px 3px 1px rgba(0, 0, 0, 0.15);\n",
              "      filter: drop-shadow(0px 1px 2px rgba(0, 0, 0, 0.3));\n",
              "      fill: #FFFFFF;\n",
              "    }\n",
              "  </style>\n",
              "\n",
              "      <script>\n",
              "        const buttonEl =\n",
              "          document.querySelector('#df-a07aa3e4-9292-411a-b767-716f85acbb99 button.colab-df-convert');\n",
              "        buttonEl.style.display =\n",
              "          google.colab.kernel.accessAllowed ? 'block' : 'none';\n",
              "\n",
              "        async function convertToInteractive(key) {\n",
              "          const element = document.querySelector('#df-a07aa3e4-9292-411a-b767-716f85acbb99');\n",
              "          const dataTable =\n",
              "            await google.colab.kernel.invokeFunction('convertToInteractive',\n",
              "                                                     [key], {});\n",
              "          if (!dataTable) return;\n",
              "\n",
              "          const docLinkHtml = 'Like what you see? Visit the ' +\n",
              "            '<a target=\"_blank\" href=https://colab.research.google.com/notebooks/data_table.ipynb>data table notebook</a>'\n",
              "            + ' to learn more about interactive tables.';\n",
              "          element.innerHTML = '';\n",
              "          dataTable['output_type'] = 'display_data';\n",
              "          await google.colab.output.renderOutput(dataTable, element);\n",
              "          const docLink = document.createElement('div');\n",
              "          docLink.innerHTML = docLinkHtml;\n",
              "          element.appendChild(docLink);\n",
              "        }\n",
              "      </script>\n",
              "    </div>\n",
              "  </div>\n",
              "  "
            ]
          },
          "metadata": {},
          "execution_count": 10
        }
      ]
    },
    {
      "cell_type": "code",
      "source": [
        "sns.boxplot(x='Label', y='MQ2', data=data)"
      ],
      "metadata": {
        "colab": {
          "base_uri": "https://localhost:8080/",
          "height": 300
        },
        "id": "w7EECpMu6sie",
        "outputId": "d0401478-5448-42b2-e94f-f9fb1b2f20b8"
      },
      "execution_count": null,
      "outputs": [
        {
          "output_type": "execute_result",
          "data": {
            "text/plain": [
              "<matplotlib.axes._subplots.AxesSubplot at 0x7f201dc9d940>"
            ]
          },
          "metadata": {},
          "execution_count": 11
        },
        {
          "output_type": "display_data",
          "data": {
            "text/plain": [
              "<Figure size 432x288 with 1 Axes>"
            ],
            "image/png": "[encoded data removed]"
          },
          "metadata": {
            "needs_background": "light"
          }
        }
      ]
    },
    {
      "cell_type": "code",
      "source": [
        "sns.boxplot(x='Label', y='MQ3', data=data)"
      ],
      "metadata": {
        "colab": {
          "base_uri": "https://localhost:8080/",
          "height": 297
        },
        "id": "j78IR6zs7Nh-",
        "outputId": "0377ddbf-9fd0-437e-c623-8439e5b15002"
      },
      "execution_count": null,
      "outputs": [
        {
          "output_type": "execute_result",
          "data": {
            "text/plain": [
              "<matplotlib.axes._subplots.AxesSubplot at 0x7f201d68fb80>"
            ]
          },
          "metadata": {},
          "execution_count": 12
        },
        {
          "output_type": "display_data",
          "data": {
            "text/plain": [
              "<Figure size 432x288 with 1 Axes>"
            ],
            "image/png": "[encoded data removed]"
          },
          "metadata": {
            "needs_background": "light"
          }
        }
      ]
    },
    {
      "cell_type": "code",
      "source": [
        "sns.boxplot(x='Label', y='MQ4', data=data)"
      ],
      "metadata": {
        "colab": {
          "base_uri": "https://localhost:8080/",
          "height": 297
        },
        "id": "oXIcLeAw7Qm5",
        "outputId": "d9dcb75b-5f2c-4572-d766-99a488e1039e"
      },
      "execution_count": null,
      "outputs": [
        {
          "output_type": "execute_result",
          "data": {
            "text/plain": [
              "<matplotlib.axes._subplots.AxesSubplot at 0x7f2084c282e0>"
            ]
          },
          "metadata": {},
          "execution_count": 13
        },
        {
          "output_type": "display_data",
          "data": {
            "text/plain": [
              "<Figure size 432x288 with 1 Axes>"
            ],
            "image/png": "[encoded data removed]"
          },
          "metadata": {
            "needs_background": "light"
          }
        }
      ]
    },
    {
      "cell_type": "code",
      "source": [
        "sns.boxplot(x='Label', y='MQ5', data=data)"
      ],
      "metadata": {
        "colab": {
          "base_uri": "https://localhost:8080/",
          "height": 297
        },
        "id": "gNDb-bxk7Sve",
        "outputId": "3b69bdc0-3af2-48fc-96b7-387a65ade441"
      },
      "execution_count": null,
      "outputs": [
        {
          "output_type": "execute_result",
          "data": {
            "text/plain": [
              "<matplotlib.axes._subplots.AxesSubplot at 0x7f201d5dfdf0>"
            ]
          },
          "metadata": {},
          "execution_count": 14
        },
        {
          "output_type": "display_data",
          "data": {
            "text/plain": [
              "<Figure size 432x288 with 1 Axes>"
            ],
            "image/png": "[encoded data removed]"
          },
          "metadata": {
            "needs_background": "light"
          }
        }
      ]
    },
    {
      "cell_type": "code",
      "source": [
        "sns.boxplot(x='Label', y='MQ6', data=data)"
      ],
      "metadata": {
        "colab": {
          "base_uri": "https://localhost:8080/",
          "height": 297
        },
        "id": "weKdSV097U3V",
        "outputId": "1489cba9-320b-4a69-f476-f486323b3d89"
      },
      "execution_count": null,
      "outputs": [
        {
          "output_type": "execute_result",
          "data": {
            "text/plain": [
              "<matplotlib.axes._subplots.AxesSubplot at 0x7f201d559e80>"
            ]
          },
          "metadata": {},
          "execution_count": 15
        },
        {
          "output_type": "display_data",
          "data": {
            "text/plain": [
              "<Figure size 432x288 with 1 Axes>"
            ],
            "image/png": "[encoded data removed]"
          },
          "metadata": {
            "needs_background": "light"
          }
        }
      ]
    },
    {
      "cell_type": "code",
      "source": [
        "sns.boxplot(x='Label', y='MQ8', data=data)"
      ],
      "metadata": {
        "colab": {
          "base_uri": "https://localhost:8080/",
          "height": 297
        },
        "id": "1R6FHO6l7W1a",
        "outputId": "4875bd48-aea6-46ed-cf34-9f3ecbad8af6"
      },
      "execution_count": null,
      "outputs": [
        {
          "output_type": "execute_result",
          "data": {
            "text/plain": [
              "<matplotlib.axes._subplots.AxesSubplot at 0x7f201d4d23d0>"
            ]
          },
          "metadata": {},
          "execution_count": 16
        },
        {
          "output_type": "display_data",
          "data": {
            "text/plain": [
              "<Figure size 432x288 with 1 Axes>"
            ],
            "image/png": "[encoded data removed]"
          },
          "metadata": {
            "needs_background": "light"
          }
        }
      ]
    },
    {
      "cell_type": "code",
      "source": [
        "sns.boxplot(x='Label', y='MQ9', data=data)"
      ],
      "metadata": {
        "colab": {
          "base_uri": "https://localhost:8080/",
          "height": 297
        },
        "id": "C05jK6HW7ZSS",
        "outputId": "0bac3e96-e8e4-4d83-ef92-b0414b080d04"
      },
      "execution_count": null,
      "outputs": [
        {
          "output_type": "execute_result",
          "data": {
            "text/plain": [
              "<matplotlib.axes._subplots.AxesSubplot at 0x7f201d53d430>"
            ]
          },
          "metadata": {},
          "execution_count": 17
        },
        {
          "output_type": "display_data",
          "data": {
            "text/plain": [
              "<Figure size 432x288 with 1 Axes>"
            ],
            "image/png": "[encoded data removed]"
          },
          "metadata": {
            "needs_background": "light"
          }
        }
      ]
    },
    {
      "cell_type": "code",
      "source": [
        "sns.boxplot(x='Label', y='MQ135', data=data)"
      ],
      "metadata": {
        "colab": {
          "base_uri": "https://localhost:8080/",
          "height": 299
        },
        "id": "N7UL6J5x7boM",
        "outputId": "83423fdb-508a-4a1d-c8e0-d853ffbef236"
      },
      "execution_count": null,
      "outputs": [
        {
          "output_type": "execute_result",
          "data": {
            "text/plain": [
              "<matplotlib.axes._subplots.AxesSubplot at 0x7f201d3d53a0>"
            ]
          },
          "metadata": {},
          "execution_count": 18
        },
        {
          "output_type": "display_data",
          "data": {
            "text/plain": [
              "<Figure size 432x288 with 1 Axes>"
            ],
            "image/png": "[encoded data removed]"
          },
          "metadata": {
            "needs_background": "light"
          }
        }
      ]
    },
    {
      "cell_type": "code",
      "source": [
        "sns.boxplot(x='Label', y='MQ136', data=data)"
      ],
      "metadata": {
        "colab": {
          "base_uri": "https://localhost:8080/",
          "height": 297
        },
        "id": "Pql7FYQ77ePg",
        "outputId": "29fcfdac-a6db-4be2-c699-e21c8209307d"
      },
      "execution_count": null,
      "outputs": [
        {
          "output_type": "execute_result",
          "data": {
            "text/plain": [
              "<matplotlib.axes._subplots.AxesSubplot at 0x7f201d35b880>"
            ]
          },
          "metadata": {},
          "execution_count": 19
        },
        {
          "output_type": "display_data",
          "data": {
            "text/plain": [
              "<Figure size 432x288 with 1 Axes>"
            ],
            "image/png": "[encoded data removed]"
          },
          "metadata": {
            "needs_background": "light"
          }
        }
      ]
    },
    {
      "cell_type": "code",
      "source": [
        "data.hist(figsize=(20,30))"
      ],
      "metadata": {
        "colab": {
          "base_uri": "https://localhost:8080/",
          "height": 1000
        },
        "id": "0h_0UHGx6K-A",
        "outputId": "edb9a907-325e-4887-b3a8-4e82a24ffba0"
      },
      "execution_count": null,
      "outputs": [
        {
          "output_type": "execute_result",
          "data": {
            "text/plain": [
              "array([[<matplotlib.axes._subplots.AxesSubplot object at 0x7f201d2a3af0>,\n",
              "        <matplotlib.axes._subplots.AxesSubplot object at 0x7f201d255f40>,\n",
              "        <matplotlib.axes._subplots.AxesSubplot object at 0x7f201d20f3a0>],\n",
              "       [<matplotlib.axes._subplots.AxesSubplot object at 0x7f201d240220>,\n",
              "        <matplotlib.axes._subplots.AxesSubplot object at 0x7f201d1ea940>,\n",
              "        <matplotlib.axes._subplots.AxesSubplot object at 0x7f201d196100>],\n",
              "       [<matplotlib.axes._subplots.AxesSubplot object at 0x7f201d1a40d0>,\n",
              "        <matplotlib.axes._subplots.AxesSubplot object at 0x7f201d14d850>,\n",
              "        <matplotlib.axes._subplots.AxesSubplot object at 0x7f201d12e640>]],\n",
              "      dtype=object)"
            ]
          },
          "metadata": {},
          "execution_count": 20
        },
        {
          "output_type": "display_data",
          "data": {
            "text/plain": [
              "<Figure size 1440x2160 with 9 Axes>"
            ],
            "image/png": "[encoded data removed]"
          },
          "metadata": {
            "needs_background": "light"
          }
        }
      ]
    },
    {
      "cell_type": "code",
      "source": [
        "X=data.drop('Label', axis=1)\n",
        "#Generating Dependent Variable Vectors\n",
        "Y = data.iloc[:,-1].values\n",
        "Y"
      ],
      "metadata": {
        "colab": {
          "base_uri": "https://localhost:8080/"
        },
        "id": "FJTOlSYjdE42",
        "outputId": "a2d95765-2616-4455-fbb6-403808cbca4e"
      },
      "execution_count": null,
      "outputs": [
        {
          "output_type": "execute_result",
          "data": {
            "text/plain": [
              "array(['Light', 'Light', 'Light', 'Light', 'Light', 'Light', 'Light',\n",
              "       'Light', 'Light', 'Light', 'Light', 'Light', 'Light', 'Light',\n",
              "       'Light', 'Light', 'Light', 'Light', 'Light', 'Light', 'Light',\n",
              "       'Light', 'Light', 'Light', 'Light', 'Light', 'Light', 'Light',\n",
              "       'Light', 'Light', 'Light', 'Light', 'Light', 'Light', 'Light',\n",
              "       'Light', 'Light', 'Light', 'Light', 'Light', 'Light', 'Light',\n",
              "       'Light', 'Light', 'Light', 'Light', 'Light', 'Light', 'Light',\n",
              "       'Light', 'Light', 'Light', 'Light', 'Light', 'Light', 'Light',\n",
              "       'Light', 'Light', 'Light', 'Light', 'Light', 'Light', 'Light',\n",
              "       'Light', 'Light', 'Light', 'Light', 'Light', 'Light', 'Light',\n",
              "       'Light', 'Light', 'Light', 'Light', 'Light', 'Light', 'Light',\n",
              "       'Light', 'Light', 'Light', 'Light', 'Light', 'Light', 'Light',\n",
              "       'Light', 'Light', 'Light', 'Light', 'Light', 'Light', 'Light',\n",
              "       'Light', 'Light', 'Light', 'Light', 'Light', 'Light', 'Light',\n",
              "       'Light', 'Light', 'Light', 'Light', 'Light', 'Light', 'Light',\n",
              "       'Light', 'Light', 'Light', 'Light', 'Light', 'Light', 'Light',\n",
              "       'Light', 'Light', 'Light', 'Light', 'Light', 'Light', 'Light',\n",
              "       'Light', 'Light', 'Light', 'Light', 'Light', 'Light', 'Light',\n",
              "       'Light', 'Light', 'Light', 'Light', 'Light', 'Light', 'Light',\n",
              "       'Light', 'Light', 'Light', 'Light', 'Light', 'Light', 'Light',\n",
              "       'Light', 'Light', 'Light', 'Light', 'Light', 'Light', 'Light',\n",
              "       'Light', 'Light', 'Light', 'Medium', 'Medium', 'Medium', 'Medium',\n",
              "       'Medium', 'Medium', 'Medium', 'Medium', 'Medium', 'Medium',\n",
              "       'Medium', 'Medium', 'Medium', 'Medium', 'Medium', 'Medium',\n",
              "       'Medium', 'Medium', 'Medium', 'Medium', 'Medium', 'Medium',\n",
              "       'Medium', 'Medium', 'Medium', 'Medium', 'Medium', 'Medium',\n",
              "       'Medium', 'Medium', 'Medium', 'Medium', 'Medium', 'Medium',\n",
              "       'Medium', 'Medium', 'Medium', 'Medium', 'Medium', 'Medium',\n",
              "       'Medium', 'Medium', 'Medium', 'Medium', 'Medium', 'Medium',\n",
              "       'Medium', 'Medium', 'Medium', 'Medium', 'Medium', 'Medium',\n",
              "       'Medium', 'Medium', 'Medium', 'Medium', 'Medium', 'Medium',\n",
              "       'Medium', 'Medium', 'Medium', 'Medium', 'Medium', 'Medium',\n",
              "       'Medium', 'Medium', 'Medium', 'Medium', 'Medium', 'Medium',\n",
              "       'Medium', 'Medium', 'Medium', 'Medium', 'Medium', 'Medium',\n",
              "       'Medium', 'Medium', 'Medium', 'Medium', 'Medium', 'Medium',\n",
              "       'Medium', 'Medium', 'Medium', 'Medium', 'Medium', 'Medium',\n",
              "       'Medium', 'Medium', 'Medium', 'Medium', 'Medium', 'Medium',\n",
              "       'Medium', 'Medium', 'Medium', 'Medium', 'Medium', 'Medium',\n",
              "       'Medium', 'Medium', 'Medium', 'Medium', 'Medium', 'Medium',\n",
              "       'Medium', 'Medium', 'Medium', 'Medium', 'Medium', 'Medium',\n",
              "       'Medium', 'Medium', 'Medium', 'Medium', 'Medium', 'Medium',\n",
              "       'Medium', 'Medium', 'Medium', 'Medium', 'Medium', 'Medium',\n",
              "       'Medium', 'Medium', 'Medium', 'Medium', 'Medium', 'Medium',\n",
              "       'Medium', 'Medium', 'Medium', 'Medium', 'Medium', 'Medium',\n",
              "       'Medium', 'Medium', 'Medium', 'Medium', 'Medium', 'Medium',\n",
              "       'Medium', 'Medium', 'Medium', 'Medium', 'Medium', 'Medium',\n",
              "       'Medium', 'Medium', 'Dark', 'Dark', 'Dark', 'Dark', 'Dark', 'Dark',\n",
              "       'Dark', 'Dark', 'Dark', 'Dark', 'Dark', 'Dark', 'Dark', 'Dark',\n",
              "       'Dark', 'Dark', 'Dark', 'Dark', 'Dark', 'Dark', 'Dark', 'Dark',\n",
              "       'Dark', 'Dark', 'Dark', 'Dark', 'Dark', 'Dark', 'Dark', 'Dark',\n",
              "       'Dark', 'Dark', 'Dark', 'Dark', 'Dark', 'Dark', 'Dark', 'Dark',\n",
              "       'Dark', 'Dark', 'Dark', 'Dark', 'Dark', 'Dark', 'Dark', 'Dark',\n",
              "       'Dark', 'Dark', 'Dark', 'Dark', 'Dark', 'Dark', 'Dark', 'Dark',\n",
              "       'Dark', 'Dark', 'Dark', 'Dark', 'Dark', 'Dark', 'Dark', 'Dark',\n",
              "       'Dark', 'Dark', 'Dark', 'Dark', 'Dark', 'Dark', 'Dark', 'Dark',\n",
              "       'Dark', 'Dark', 'Dark', 'Dark', 'Dark', 'Dark', 'Dark', 'Dark',\n",
              "       'Dark', 'Dark', 'Dark', 'Dark', 'Dark', 'Dark', 'Dark', 'Dark',\n",
              "       'Dark', 'Dark', 'Dark', 'Dark', 'Dark', 'Dark', 'Dark', 'Dark',\n",
              "       'Dark', 'Dark', 'Dark', 'Dark', 'Dark', 'Dark', 'Dark', 'Dark',\n",
              "       'Dark', 'Dark', 'Dark', 'Dark', 'Dark', 'Dark', 'Dark', 'Dark',\n",
              "       'Dark', 'Dark', 'Dark', 'Dark', 'Dark', 'Dark', 'Dark', 'Dark',\n",
              "       'Dark', 'Dark', 'Dark', 'Dark', 'Dark', 'Dark', 'Dark', 'Dark',\n",
              "       'Dark', 'Dark', 'Dark', 'Dark', 'Dark', 'Dark', 'Dark', 'Dark',\n",
              "       'Dark', 'Dark', 'Dark', 'Dark', 'Dark', 'Dark', 'Dark', 'Dark',\n",
              "       'Dark', 'Dark', 'Dark', 'Dark', 'Dark', 'Dark', 'Dark', 'Dark',\n",
              "       'Light', 'Light', 'Light', 'Light', 'Light', 'Light', 'Light',\n",
              "       'Light', 'Light', 'Light', 'Light', 'Light', 'Light', 'Light',\n",
              "       'Light', 'Light', 'Light', 'Light', 'Light', 'Light', 'Light',\n",
              "       'Light', 'Light', 'Light', 'Light', 'Light', 'Light', 'Light',\n",
              "       'Light', 'Light', 'Light', 'Light', 'Light', 'Light', 'Light',\n",
              "       'Light', 'Light', 'Light', 'Light', 'Light', 'Light', 'Light',\n",
              "       'Light', 'Light', 'Light', 'Light', 'Light', 'Light', 'Light',\n",
              "       'Light', 'Light', 'Light', 'Light', 'Light', 'Light', 'Light',\n",
              "       'Light', 'Light', 'Light', 'Light', 'Light', 'Light', 'Light',\n",
              "       'Light', 'Light', 'Light', 'Light', 'Light', 'Light', 'Light',\n",
              "       'Light', 'Light', 'Light', 'Light', 'Light', 'Light', 'Light',\n",
              "       'Light', 'Light', 'Light', 'Light', 'Light', 'Light', 'Light',\n",
              "       'Light', 'Light', 'Light', 'Light', 'Light', 'Light', 'Light',\n",
              "       'Light', 'Light', 'Light', 'Light', 'Light', 'Light', 'Light',\n",
              "       'Light', 'Light', 'Light', 'Light', 'Light', 'Light', 'Light',\n",
              "       'Light', 'Light', 'Light', 'Light', 'Light', 'Light', 'Light',\n",
              "       'Light', 'Light', 'Light', 'Light', 'Light', 'Light', 'Light',\n",
              "       'Light', 'Light', 'Light', 'Light', 'Light', 'Light', 'Light',\n",
              "       'Light', 'Light', 'Light', 'Light', 'Light', 'Light', 'Light',\n",
              "       'Light', 'Light', 'Light', 'Light', 'Light', 'Light', 'Light',\n",
              "       'Light', 'Light', 'Light', 'Light', 'Light', 'Light', 'Light',\n",
              "       'Light', 'Light', 'Light', 'Medium', 'Medium', 'Medium', 'Medium',\n",
              "       'Medium', 'Medium', 'Medium', 'Medium', 'Medium', 'Medium',\n",
              "       'Medium', 'Medium', 'Medium', 'Medium', 'Medium', 'Medium',\n",
              "       'Medium', 'Medium', 'Medium', 'Medium', 'Medium', 'Medium',\n",
              "       'Medium', 'Medium', 'Medium', 'Medium', 'Medium', 'Medium',\n",
              "       'Medium', 'Medium', 'Medium', 'Medium', 'Medium', 'Medium',\n",
              "       'Medium', 'Medium', 'Medium', 'Medium', 'Medium', 'Medium',\n",
              "       'Medium', 'Medium', 'Medium', 'Medium', 'Medium', 'Medium',\n",
              "       'Medium', 'Medium', 'Medium', 'Medium', 'Medium', 'Medium',\n",
              "       'Medium', 'Medium', 'Medium', 'Medium', 'Medium', 'Medium',\n",
              "       'Medium', 'Medium', 'Medium', 'Medium', 'Medium', 'Medium',\n",
              "       'Medium', 'Medium', 'Medium', 'Medium', 'Medium', 'Medium',\n",
              "       'Medium', 'Medium', 'Medium', 'Medium', 'Medium', 'Medium',\n",
              "       'Medium', 'Medium', 'Medium', 'Medium', 'Medium', 'Medium',\n",
              "       'Medium', 'Medium', 'Medium', 'Medium', 'Medium', 'Medium',\n",
              "       'Medium', 'Medium', 'Medium', 'Medium', 'Medium', 'Medium',\n",
              "       'Medium', 'Medium', 'Medium', 'Medium', 'Medium', 'Medium',\n",
              "       'Medium', 'Medium', 'Medium', 'Medium', 'Medium', 'Medium',\n",
              "       'Medium', 'Medium', 'Medium', 'Medium', 'Medium', 'Medium',\n",
              "       'Medium', 'Medium', 'Medium', 'Medium', 'Medium', 'Medium',\n",
              "       'Medium', 'Medium', 'Medium', 'Medium', 'Medium', 'Medium',\n",
              "       'Medium', 'Medium', 'Medium', 'Medium', 'Medium', 'Medium',\n",
              "       'Medium', 'Medium', 'Medium', 'Medium', 'Medium', 'Medium',\n",
              "       'Medium', 'Medium', 'Medium', 'Medium', 'Medium', 'Medium',\n",
              "       'Medium', 'Medium', 'Medium', 'Medium', 'Medium', 'Medium',\n",
              "       'Medium', 'Medium', 'Dark', 'Dark', 'Dark', 'Dark', 'Dark', 'Dark',\n",
              "       'Dark', 'Dark', 'Dark', 'Dark', 'Dark', 'Dark', 'Dark', 'Dark',\n",
              "       'Dark', 'Dark', 'Dark', 'Dark', 'Dark', 'Dark', 'Dark', 'Dark',\n",
              "       'Dark', 'Dark', 'Dark', 'Dark', 'Dark', 'Dark', 'Dark', 'Dark',\n",
              "       'Dark', 'Dark', 'Dark', 'Dark', 'Dark', 'Dark', 'Dark', 'Dark',\n",
              "       'Dark', 'Dark', 'Dark', 'Dark', 'Dark', 'Dark', 'Dark', 'Dark',\n",
              "       'Dark', 'Dark', 'Dark', 'Dark', 'Dark', 'Dark', 'Dark', 'Dark',\n",
              "       'Dark', 'Dark', 'Dark', 'Dark', 'Dark', 'Dark', 'Dark', 'Dark',\n",
              "       'Dark', 'Dark', 'Dark', 'Dark', 'Dark', 'Dark', 'Dark', 'Dark',\n",
              "       'Dark', 'Dark', 'Dark', 'Dark', 'Dark', 'Dark', 'Dark', 'Dark',\n",
              "       'Dark', 'Dark', 'Dark', 'Dark', 'Dark', 'Dark', 'Dark', 'Dark',\n",
              "       'Dark', 'Dark', 'Dark', 'Dark', 'Dark', 'Dark', 'Dark', 'Dark',\n",
              "       'Dark', 'Dark', 'Dark', 'Dark', 'Dark', 'Dark', 'Dark', 'Dark',\n",
              "       'Dark', 'Dark', 'Dark', 'Dark', 'Dark', 'Dark', 'Dark', 'Dark',\n",
              "       'Dark', 'Dark', 'Dark', 'Dark', 'Dark', 'Dark', 'Dark', 'Dark',\n",
              "       'Dark', 'Dark', 'Dark', 'Dark', 'Dark', 'Dark', 'Dark', 'Dark',\n",
              "       'Dark', 'Dark', 'Dark', 'Dark', 'Dark', 'Dark', 'Dark', 'Dark',\n",
              "       'Dark', 'Dark', 'Dark', 'Dark', 'Dark', 'Dark', 'Dark', 'Dark',\n",
              "       'Dark', 'Dark', 'Dark', 'Dark', 'Dark', 'Dark', 'Dark', 'Dark'],\n",
              "      dtype=object)"
            ]
          },
          "metadata": {},
          "execution_count": 31
        }
      ]
    },
    {
      "cell_type": "code",
      "source": [
        "from sklearn.preprocessing import LabelEncoder\n",
        "from keras.utils import np_utils\n",
        "# encode class values as integers\n",
        "encoder = LabelEncoder()\n",
        "encoder.fit(Y)\n",
        "encoded_Y = encoder.transform(Y)\n",
        "# convert integers to dummy variables (i.e. one hot encoded)\n",
        "dummy_y = np_utils.to_categorical(encoded_Y)"
      ],
      "metadata": {
        "id": "RhvqtP8lBGnz"
      },
      "execution_count": null,
      "outputs": []
    },
    {
      "cell_type": "code",
      "source": [
        "encoded_Y"
      ],
      "metadata": {
        "colab": {
          "base_uri": "https://localhost:8080/"
        },
        "id": "VY46KeMNBTV7",
        "outputId": "c86cbb92-29e5-4323-8330-b9cc337343ab"
      },
      "execution_count": null,
      "outputs": [
        {
          "output_type": "execute_result",
          "data": {
            "text/plain": [
              "array([1, 1, 1, 1, 1, 1, 1, 1, 1, 1, 1, 1, 1, 1, 1, 1, 1, 1, 1, 1, 1, 1,\n",
              "       1, 1, 1, 1, 1, 1, 1, 1, 1, 1, 1, 1, 1, 1, 1, 1, 1, 1, 1, 1, 1, 1,\n",
              "       1, 1, 1, 1, 1, 1, 1, 1, 1, 1, 1, 1, 1, 1, 1, 1, 1, 1, 1, 1, 1, 1,\n",
              "       1, 1, 1, 1, 1, 1, 1, 1, 1, 1, 1, 1, 1, 1, 1, 1, 1, 1, 1, 1, 1, 1,\n",
              "       1, 1, 1, 1, 1, 1, 1, 1, 1, 1, 1, 1, 1, 1, 1, 1, 1, 1, 1, 1, 1, 1,\n",
              "       1, 1, 1, 1, 1, 1, 1, 1, 1, 1, 1, 1, 1, 1, 1, 1, 1, 1, 1, 1, 1, 1,\n",
              "       1, 1, 1, 1, 1, 1, 1, 1, 1, 1, 1, 1, 1, 1, 1, 1, 1, 1, 2, 2, 2, 2,\n",
              "       2, 2, 2, 2, 2, 2, 2, 2, 2, 2, 2, 2, 2, 2, 2, 2, 2, 2, 2, 2, 2, 2,\n",
              "       2, 2, 2, 2, 2, 2, 2, 2, 2, 2, 2, 2, 2, 2, 2, 2, 2, 2, 2, 2, 2, 2,\n",
              "       2, 2, 2, 2, 2, 2, 2, 2, 2, 2, 2, 2, 2, 2, 2, 2, 2, 2, 2, 2, 2, 2,\n",
              "       2, 2, 2, 2, 2, 2, 2, 2, 2, 2, 2, 2, 2, 2, 2, 2, 2, 2, 2, 2, 2, 2,\n",
              "       2, 2, 2, 2, 2, 2, 2, 2, 2, 2, 2, 2, 2, 2, 2, 2, 2, 2, 2, 2, 2, 2,\n",
              "       2, 2, 2, 2, 2, 2, 2, 2, 2, 2, 2, 2, 2, 2, 2, 2, 2, 2, 2, 2, 2, 2,\n",
              "       2, 2, 2, 2, 2, 2, 2, 2, 2, 2, 2, 2, 2, 2, 0, 0, 0, 0, 0, 0, 0, 0,\n",
              "       0, 0, 0, 0, 0, 0, 0, 0, 0, 0, 0, 0, 0, 0, 0, 0, 0, 0, 0, 0, 0, 0,\n",
              "       0, 0, 0, 0, 0, 0, 0, 0, 0, 0, 0, 0, 0, 0, 0, 0, 0, 0, 0, 0, 0, 0,\n",
              "       0, 0, 0, 0, 0, 0, 0, 0, 0, 0, 0, 0, 0, 0, 0, 0, 0, 0, 0, 0, 0, 0,\n",
              "       0, 0, 0, 0, 0, 0, 0, 0, 0, 0, 0, 0, 0, 0, 0, 0, 0, 0, 0, 0, 0, 0,\n",
              "       0, 0, 0, 0, 0, 0, 0, 0, 0, 0, 0, 0, 0, 0, 0, 0, 0, 0, 0, 0, 0, 0,\n",
              "       0, 0, 0, 0, 0, 0, 0, 0, 0, 0, 0, 0, 0, 0, 0, 0, 0, 0, 0, 0, 0, 0,\n",
              "       0, 0, 0, 0, 0, 0, 0, 0, 0, 0, 1, 1, 1, 1, 1, 1, 1, 1, 1, 1, 1, 1,\n",
              "       1, 1, 1, 1, 1, 1, 1, 1, 1, 1, 1, 1, 1, 1, 1, 1, 1, 1, 1, 1, 1, 1,\n",
              "       1, 1, 1, 1, 1, 1, 1, 1, 1, 1, 1, 1, 1, 1, 1, 1, 1, 1, 1, 1, 1, 1,\n",
              "       1, 1, 1, 1, 1, 1, 1, 1, 1, 1, 1, 1, 1, 1, 1, 1, 1, 1, 1, 1, 1, 1,\n",
              "       1, 1, 1, 1, 1, 1, 1, 1, 1, 1, 1, 1, 1, 1, 1, 1, 1, 1, 1, 1, 1, 1,\n",
              "       1, 1, 1, 1, 1, 1, 1, 1, 1, 1, 1, 1, 1, 1, 1, 1, 1, 1, 1, 1, 1, 1,\n",
              "       1, 1, 1, 1, 1, 1, 1, 1, 1, 1, 1, 1, 1, 1, 1, 1, 1, 1, 1, 1, 1, 1,\n",
              "       1, 1, 1, 1, 1, 1, 2, 2, 2, 2, 2, 2, 2, 2, 2, 2, 2, 2, 2, 2, 2, 2,\n",
              "       2, 2, 2, 2, 2, 2, 2, 2, 2, 2, 2, 2, 2, 2, 2, 2, 2, 2, 2, 2, 2, 2,\n",
              "       2, 2, 2, 2, 2, 2, 2, 2, 2, 2, 2, 2, 2, 2, 2, 2, 2, 2, 2, 2, 2, 2,\n",
              "       2, 2, 2, 2, 2, 2, 2, 2, 2, 2, 2, 2, 2, 2, 2, 2, 2, 2, 2, 2, 2, 2,\n",
              "       2, 2, 2, 2, 2, 2, 2, 2, 2, 2, 2, 2, 2, 2, 2, 2, 2, 2, 2, 2, 2, 2,\n",
              "       2, 2, 2, 2, 2, 2, 2, 2, 2, 2, 2, 2, 2, 2, 2, 2, 2, 2, 2, 2, 2, 2,\n",
              "       2, 2, 2, 2, 2, 2, 2, 2, 2, 2, 2, 2, 2, 2, 2, 2, 2, 2, 2, 2, 2, 2,\n",
              "       2, 2, 0, 0, 0, 0, 0, 0, 0, 0, 0, 0, 0, 0, 0, 0, 0, 0, 0, 0, 0, 0,\n",
              "       0, 0, 0, 0, 0, 0, 0, 0, 0, 0, 0, 0, 0, 0, 0, 0, 0, 0, 0, 0, 0, 0,\n",
              "       0, 0, 0, 0, 0, 0, 0, 0, 0, 0, 0, 0, 0, 0, 0, 0, 0, 0, 0, 0, 0, 0,\n",
              "       0, 0, 0, 0, 0, 0, 0, 0, 0, 0, 0, 0, 0, 0, 0, 0, 0, 0, 0, 0, 0, 0,\n",
              "       0, 0, 0, 0, 0, 0, 0, 0, 0, 0, 0, 0, 0, 0, 0, 0, 0, 0, 0, 0, 0, 0,\n",
              "       0, 0, 0, 0, 0, 0, 0, 0, 0, 0, 0, 0, 0, 0, 0, 0, 0, 0, 0, 0, 0, 0,\n",
              "       0, 0, 0, 0, 0, 0, 0, 0, 0, 0, 0, 0, 0, 0, 0, 0, 0, 0, 0, 0])"
            ]
          },
          "metadata": {},
          "execution_count": 33
        }
      ]
    },
    {
      "cell_type": "code",
      "source": [
        "dummy_y"
      ],
      "metadata": {
        "colab": {
          "base_uri": "https://localhost:8080/"
        },
        "id": "izOrpr83BZKm",
        "outputId": "c469c649-c14b-40b3-caa3-cc081cf34bc7"
      },
      "execution_count": null,
      "outputs": [
        {
          "output_type": "execute_result",
          "data": {
            "text/plain": [
              "array([[0., 1., 0.],\n",
              "       [0., 1., 0.],\n",
              "       [0., 1., 0.],\n",
              "       ...,\n",
              "       [1., 0., 0.],\n",
              "       [1., 0., 0.],\n",
              "       [1., 0., 0.]], dtype=float32)"
            ]
          },
          "metadata": {},
          "execution_count": 34
        }
      ]
    },
    {
      "cell_type": "code",
      "source": [
        "#Splitting dataset into training and testing dataset\n",
        "X_train,X_test,Y_train,Y_test = train_test_split(X,dummy_y,test_size=0.2,random_state=0)\n",
        "\n",
        "#Performing Feature Scaling\n",
        "#from sklearn.preprocessing import StandardScaler\n",
        "#sc = StandardScaler()\n",
        "#X_train = sc.fit_transform(X_train)\n",
        "# X_test = sc.transform(X_test)\n",
        "\n",
        "#Initialising ANN\n",
        "ann = tf.keras.models.Sequential()\n",
        "#Adding First Hidden Layer\n",
        "ann.add(tf.keras.layers.Dense(units=16,activation=\"relu\"))\n",
        "#Adding Second Hidden Layer\n",
        "ann.add(tf.keras.layers.Dense(units=12,activation=\"relu\"))\n",
        "#Adding Output Layer\n",
        "ann.add(tf.keras.layers.Dense(units=3,activation=\"softmax\"))\n",
        "#Compiling ANN\n",
        "ann.compile(optimizer=\"adam\",loss=\"categorical_crossentropy\",metrics=['accuracy'])\n",
        "#Fitting ANN\n",
        "ann.fit(X_train,Y_train,batch_size=64,epochs = 150)"
      ],
      "metadata": {
        "id": "vjy_Mz2gD1ag",
        "colab": {
          "base_uri": "https://localhost:8080/"
        },
        "outputId": "36454a9b-1055-45bc-b6d6-73ae0dae4330"
      },
      "execution_count": null,
      "outputs": [
        {
          "output_type": "stream",
          "name": "stdout",
          "text": [
            "Epoch 1/150\n",
            "12/12 [==============================] - 1s 2ms/step - loss: 77.9536 - accuracy: 0.3333\n",
            "Epoch 2/150\n",
            "12/12 [==============================] - 0s 2ms/step - loss: 43.3806 - accuracy: 0.3569\n",
            "Epoch 3/150\n",
            "12/12 [==============================] - 0s 2ms/step - loss: 18.4644 - accuracy: 0.4472\n",
            "Epoch 4/150\n",
            "12/12 [==============================] - 0s 2ms/step - loss: 14.6571 - accuracy: 0.4056\n",
            "Epoch 5/150\n",
            "12/12 [==============================] - 0s 2ms/step - loss: 9.8447 - accuracy: 0.4333\n",
            "Epoch 6/150\n",
            "12/12 [==============================] - 0s 2ms/step - loss: 6.6049 - accuracy: 0.3764\n",
            "Epoch 7/150\n",
            "12/12 [==============================] - 0s 2ms/step - loss: 5.0996 - accuracy: 0.4764\n",
            "Epoch 8/150\n",
            "12/12 [==============================] - 0s 2ms/step - loss: 4.1744 - accuracy: 0.4931\n",
            "Epoch 9/150\n",
            "12/12 [==============================] - 0s 2ms/step - loss: 3.7703 - accuracy: 0.5097\n",
            "Epoch 10/150\n",
            "12/12 [==============================] - 0s 2ms/step - loss: 3.3244 - accuracy: 0.5306\n",
            "Epoch 11/150\n",
            "12/12 [==============================] - 0s 2ms/step - loss: 3.1690 - accuracy: 0.5375\n",
            "Epoch 12/150\n",
            "12/12 [==============================] - 0s 2ms/step - loss: 3.0557 - accuracy: 0.5236\n",
            "Epoch 13/150\n",
            "12/12 [==============================] - 0s 2ms/step - loss: 2.7381 - accuracy: 0.5667\n",
            "Epoch 14/150\n",
            "12/12 [==============================] - 0s 2ms/step - loss: 2.8013 - accuracy: 0.5889\n",
            "Epoch 15/150\n",
            "12/12 [==============================] - 0s 2ms/step - loss: 2.7896 - accuracy: 0.5597\n",
            "Epoch 16/150\n",
            "12/12 [==============================] - 0s 2ms/step - loss: 2.4887 - accuracy: 0.5764\n",
            "Epoch 17/150\n",
            "12/12 [==============================] - 0s 2ms/step - loss: 2.3710 - accuracy: 0.5708\n",
            "Epoch 18/150\n",
            "12/12 [==============================] - 0s 2ms/step - loss: 2.2532 - accuracy: 0.5792\n",
            "Epoch 19/150\n",
            "12/12 [==============================] - 0s 2ms/step - loss: 2.1802 - accuracy: 0.5639\n",
            "Epoch 20/150\n",
            "12/12 [==============================] - 0s 2ms/step - loss: 2.3242 - accuracy: 0.5931\n",
            "Epoch 21/150\n",
            "12/12 [==============================] - 0s 2ms/step - loss: 2.1679 - accuracy: 0.6097\n",
            "Epoch 22/150\n",
            "12/12 [==============================] - 0s 2ms/step - loss: 2.2336 - accuracy: 0.6167\n",
            "Epoch 23/150\n",
            "12/12 [==============================] - 0s 2ms/step - loss: 2.1145 - accuracy: 0.6347\n",
            "Epoch 24/150\n",
            "12/12 [==============================] - 0s 2ms/step - loss: 2.1306 - accuracy: 0.6264\n",
            "Epoch 25/150\n",
            "12/12 [==============================] - 0s 2ms/step - loss: 1.8372 - accuracy: 0.6153\n",
            "Epoch 26/150\n",
            "12/12 [==============================] - 0s 2ms/step - loss: 1.7851 - accuracy: 0.6319\n",
            "Epoch 27/150\n",
            "12/12 [==============================] - 0s 2ms/step - loss: 1.5766 - accuracy: 0.6319\n",
            "Epoch 28/150\n",
            "12/12 [==============================] - 0s 2ms/step - loss: 1.4116 - accuracy: 0.6375\n",
            "Epoch 29/150\n",
            "12/12 [==============================] - 0s 2ms/step - loss: 1.4810 - accuracy: 0.6667\n",
            "Epoch 30/150\n",
            "12/12 [==============================] - 0s 2ms/step - loss: 1.6495 - accuracy: 0.6514\n",
            "Epoch 31/150\n",
            "12/12 [==============================] - 0s 2ms/step - loss: 1.4494 - accuracy: 0.6472\n",
            "Epoch 32/150\n",
            "12/12 [==============================] - 0s 2ms/step - loss: 1.2364 - accuracy: 0.6542\n",
            "Epoch 33/150\n",
            "12/12 [==============================] - 0s 2ms/step - loss: 1.2105 - accuracy: 0.6653\n",
            "Epoch 34/150\n",
            "12/12 [==============================] - 0s 2ms/step - loss: 1.1577 - accuracy: 0.6958\n",
            "Epoch 35/150\n",
            "12/12 [==============================] - 0s 2ms/step - loss: 1.1428 - accuracy: 0.6694\n",
            "Epoch 36/150\n",
            "12/12 [==============================] - 0s 2ms/step - loss: 1.2137 - accuracy: 0.6611\n",
            "Epoch 37/150\n",
            "12/12 [==============================] - 0s 2ms/step - loss: 1.0525 - accuracy: 0.7056\n",
            "Epoch 38/150\n",
            "12/12 [==============================] - 0s 2ms/step - loss: 1.1132 - accuracy: 0.6931\n",
            "Epoch 39/150\n",
            "12/12 [==============================] - 0s 2ms/step - loss: 1.0442 - accuracy: 0.7083\n",
            "Epoch 40/150\n",
            "12/12 [==============================] - 0s 2ms/step - loss: 1.1664 - accuracy: 0.6778\n",
            "Epoch 41/150\n",
            "12/12 [==============================] - 0s 2ms/step - loss: 0.9600 - accuracy: 0.7264\n",
            "Epoch 42/150\n",
            "12/12 [==============================] - 0s 2ms/step - loss: 1.0063 - accuracy: 0.7014\n",
            "Epoch 43/150\n",
            "12/12 [==============================] - 0s 2ms/step - loss: 0.9096 - accuracy: 0.7278\n",
            "Epoch 44/150\n",
            "12/12 [==============================] - 0s 2ms/step - loss: 0.8778 - accuracy: 0.7319\n",
            "Epoch 45/150\n",
            "12/12 [==============================] - 0s 2ms/step - loss: 0.8739 - accuracy: 0.7444\n",
            "Epoch 46/150\n",
            "12/12 [==============================] - 0s 2ms/step - loss: 0.9038 - accuracy: 0.7278\n",
            "Epoch 47/150\n",
            "12/12 [==============================] - 0s 2ms/step - loss: 0.8686 - accuracy: 0.7361\n",
            "Epoch 48/150\n",
            "12/12 [==============================] - 0s 2ms/step - loss: 0.8828 - accuracy: 0.7278\n",
            "Epoch 49/150\n",
            "12/12 [==============================] - 0s 2ms/step - loss: 0.8208 - accuracy: 0.7528\n",
            "Epoch 50/150\n",
            "12/12 [==============================] - 0s 7ms/step - loss: 0.7943 - accuracy: 0.7556\n",
            "Epoch 51/150\n",
            "12/12 [==============================] - 0s 7ms/step - loss: 0.7888 - accuracy: 0.7556\n",
            "Epoch 52/150\n",
            "12/12 [==============================] - 0s 4ms/step - loss: 0.8003 - accuracy: 0.7542\n",
            "Epoch 53/150\n",
            "12/12 [==============================] - 0s 7ms/step - loss: 0.8282 - accuracy: 0.7542\n",
            "Epoch 54/150\n",
            "12/12 [==============================] - 0s 3ms/step - loss: 0.7391 - accuracy: 0.7819\n",
            "Epoch 55/150\n",
            "12/12 [==============================] - 0s 5ms/step - loss: 0.7304 - accuracy: 0.7556\n",
            "Epoch 56/150\n",
            "12/12 [==============================] - 0s 2ms/step - loss: 0.7634 - accuracy: 0.7500\n",
            "Epoch 57/150\n",
            "12/12 [==============================] - 0s 2ms/step - loss: 0.7734 - accuracy: 0.7389\n",
            "Epoch 58/150\n",
            "12/12 [==============================] - 0s 2ms/step - loss: 0.9635 - accuracy: 0.7389\n",
            "Epoch 59/150\n",
            "12/12 [==============================] - 0s 3ms/step - loss: 0.8413 - accuracy: 0.7306\n",
            "Epoch 60/150\n",
            "12/12 [==============================] - 0s 2ms/step - loss: 0.7013 - accuracy: 0.7569\n",
            "Epoch 61/150\n",
            "12/12 [==============================] - 0s 2ms/step - loss: 0.6954 - accuracy: 0.7806\n",
            "Epoch 62/150\n",
            "12/12 [==============================] - 0s 2ms/step - loss: 0.6929 - accuracy: 0.7889\n",
            "Epoch 63/150\n",
            "12/12 [==============================] - 0s 2ms/step - loss: 0.6649 - accuracy: 0.7736\n",
            "Epoch 64/150\n",
            "12/12 [==============================] - 0s 2ms/step - loss: 0.6415 - accuracy: 0.8014\n",
            "Epoch 65/150\n",
            "12/12 [==============================] - 0s 2ms/step - loss: 0.6350 - accuracy: 0.7847\n",
            "Epoch 66/150\n",
            "12/12 [==============================] - 0s 2ms/step - loss: 0.6375 - accuracy: 0.7861\n",
            "Epoch 67/150\n",
            "12/12 [==============================] - 0s 2ms/step - loss: 0.5909 - accuracy: 0.7944\n",
            "Epoch 68/150\n",
            "12/12 [==============================] - 0s 2ms/step - loss: 0.6693 - accuracy: 0.7778\n",
            "Epoch 69/150\n",
            "12/12 [==============================] - 0s 2ms/step - loss: 0.6210 - accuracy: 0.8000\n",
            "Epoch 70/150\n",
            "12/12 [==============================] - 0s 2ms/step - loss: 0.8660 - accuracy: 0.7417\n",
            "Epoch 71/150\n",
            "12/12 [==============================] - 0s 2ms/step - loss: 0.7202 - accuracy: 0.7736\n",
            "Epoch 72/150\n",
            "12/12 [==============================] - 0s 4ms/step - loss: 0.6103 - accuracy: 0.7875\n",
            "Epoch 73/150\n",
            "12/12 [==============================] - 0s 9ms/step - loss: 0.5637 - accuracy: 0.8153\n",
            "Epoch 74/150\n",
            "12/12 [==============================] - 0s 7ms/step - loss: 0.6288 - accuracy: 0.7903\n",
            "Epoch 75/150\n",
            "12/12 [==============================] - 0s 6ms/step - loss: 0.6624 - accuracy: 0.7667\n",
            "Epoch 76/150\n",
            "12/12 [==============================] - 0s 7ms/step - loss: 0.5971 - accuracy: 0.7875\n",
            "Epoch 77/150\n",
            "12/12 [==============================] - 0s 3ms/step - loss: 0.5472 - accuracy: 0.8083\n",
            "Epoch 78/150\n",
            "12/12 [==============================] - 0s 2ms/step - loss: 0.5290 - accuracy: 0.8181\n",
            "Epoch 79/150\n",
            "12/12 [==============================] - 0s 2ms/step - loss: 0.5634 - accuracy: 0.8125\n",
            "Epoch 80/150\n",
            "12/12 [==============================] - 0s 2ms/step - loss: 0.5523 - accuracy: 0.8069\n",
            "Epoch 81/150\n",
            "12/12 [==============================] - 0s 2ms/step - loss: 0.5244 - accuracy: 0.8042\n",
            "Epoch 82/150\n",
            "12/12 [==============================] - 0s 2ms/step - loss: 0.5446 - accuracy: 0.8139\n",
            "Epoch 83/150\n",
            "12/12 [==============================] - 0s 2ms/step - loss: 0.5488 - accuracy: 0.8042\n",
            "Epoch 84/150\n",
            "12/12 [==============================] - 0s 2ms/step - loss: 0.5066 - accuracy: 0.8139\n",
            "Epoch 85/150\n",
            "12/12 [==============================] - 0s 2ms/step - loss: 0.5340 - accuracy: 0.7958\n",
            "Epoch 86/150\n",
            "12/12 [==============================] - 0s 2ms/step - loss: 0.5116 - accuracy: 0.8125\n",
            "Epoch 87/150\n",
            "12/12 [==============================] - 0s 2ms/step - loss: 0.5484 - accuracy: 0.7958\n",
            "Epoch 88/150\n",
            "12/12 [==============================] - 0s 2ms/step - loss: 0.4817 - accuracy: 0.8208\n",
            "Epoch 89/150\n",
            "12/12 [==============================] - 0s 2ms/step - loss: 0.6046 - accuracy: 0.7861\n",
            "Epoch 90/150\n",
            "12/12 [==============================] - 0s 2ms/step - loss: 0.5469 - accuracy: 0.8000\n",
            "Epoch 91/150\n",
            "12/12 [==============================] - 0s 2ms/step - loss: 0.4884 - accuracy: 0.8278\n",
            "Epoch 92/150\n",
            "12/12 [==============================] - 0s 2ms/step - loss: 0.4786 - accuracy: 0.8389\n",
            "Epoch 93/150\n",
            "12/12 [==============================] - 0s 2ms/step - loss: 0.5173 - accuracy: 0.8250\n",
            "Epoch 94/150\n",
            "12/12 [==============================] - 0s 2ms/step - loss: 0.5026 - accuracy: 0.8181\n",
            "Epoch 95/150\n",
            "12/12 [==============================] - 0s 2ms/step - loss: 0.4623 - accuracy: 0.8319\n",
            "Epoch 96/150\n",
            "12/12 [==============================] - 0s 2ms/step - loss: 0.4704 - accuracy: 0.8333\n",
            "Epoch 97/150\n",
            "12/12 [==============================] - 0s 2ms/step - loss: 0.4854 - accuracy: 0.8333\n",
            "Epoch 98/150\n",
            "12/12 [==============================] - 0s 2ms/step - loss: 0.4820 - accuracy: 0.8250\n",
            "Epoch 99/150\n",
            "12/12 [==============================] - 0s 2ms/step - loss: 0.5031 - accuracy: 0.8194\n",
            "Epoch 100/150\n",
            "12/12 [==============================] - 0s 2ms/step - loss: 0.4572 - accuracy: 0.8514\n",
            "Epoch 101/150\n",
            "12/12 [==============================] - 0s 2ms/step - loss: 0.4819 - accuracy: 0.8333\n",
            "Epoch 102/150\n",
            "12/12 [==============================] - 0s 2ms/step - loss: 0.4618 - accuracy: 0.8278\n",
            "Epoch 103/150\n",
            "12/12 [==============================] - 0s 2ms/step - loss: 0.4757 - accuracy: 0.8264\n",
            "Epoch 104/150\n",
            "12/12 [==============================] - 0s 2ms/step - loss: 0.5615 - accuracy: 0.7861\n",
            "Epoch 105/150\n",
            "12/12 [==============================] - 0s 2ms/step - loss: 0.5858 - accuracy: 0.7889\n",
            "Epoch 106/150\n",
            "12/12 [==============================] - 0s 2ms/step - loss: 0.4791 - accuracy: 0.8375\n",
            "Epoch 107/150\n",
            "12/12 [==============================] - 0s 2ms/step - loss: 0.4836 - accuracy: 0.8250\n",
            "Epoch 108/150\n",
            "12/12 [==============================] - 0s 2ms/step - loss: 0.4214 - accuracy: 0.8528\n",
            "Epoch 109/150\n",
            "12/12 [==============================] - 0s 2ms/step - loss: 0.6700 - accuracy: 0.7764\n",
            "Epoch 110/150\n",
            "12/12 [==============================] - 0s 2ms/step - loss: 0.4926 - accuracy: 0.8097\n",
            "Epoch 111/150\n",
            "12/12 [==============================] - 0s 2ms/step - loss: 0.6082 - accuracy: 0.8056\n",
            "Epoch 112/150\n",
            "12/12 [==============================] - 0s 2ms/step - loss: 0.5169 - accuracy: 0.8375\n",
            "Epoch 113/150\n",
            "12/12 [==============================] - 0s 2ms/step - loss: 0.4609 - accuracy: 0.8306\n",
            "Epoch 114/150\n",
            "12/12 [==============================] - 0s 2ms/step - loss: 0.4435 - accuracy: 0.8194\n",
            "Epoch 115/150\n",
            "12/12 [==============================] - 0s 2ms/step - loss: 0.4248 - accuracy: 0.8389\n",
            "Epoch 116/150\n",
            "12/12 [==============================] - 0s 2ms/step - loss: 0.5044 - accuracy: 0.8403\n",
            "Epoch 117/150\n",
            "12/12 [==============================] - 0s 2ms/step - loss: 0.4710 - accuracy: 0.8375\n",
            "Epoch 118/150\n",
            "12/12 [==============================] - 0s 2ms/step - loss: 0.4166 - accuracy: 0.8528\n",
            "Epoch 119/150\n",
            "12/12 [==============================] - 0s 2ms/step - loss: 0.4019 - accuracy: 0.8542\n",
            "Epoch 120/150\n",
            "12/12 [==============================] - 0s 2ms/step - loss: 0.4280 - accuracy: 0.8458\n",
            "Epoch 121/150\n",
            "12/12 [==============================] - 0s 2ms/step - loss: 0.5289 - accuracy: 0.8056\n",
            "Epoch 122/150\n",
            "12/12 [==============================] - 0s 2ms/step - loss: 0.4550 - accuracy: 0.8347\n",
            "Epoch 123/150\n",
            "12/12 [==============================] - 0s 2ms/step - loss: 0.4172 - accuracy: 0.8528\n",
            "Epoch 124/150\n",
            "12/12 [==============================] - 0s 2ms/step - loss: 0.3909 - accuracy: 0.8625\n",
            "Epoch 125/150\n",
            "12/12 [==============================] - 0s 2ms/step - loss: 0.4618 - accuracy: 0.8236\n",
            "Epoch 126/150\n",
            "12/12 [==============================] - 0s 2ms/step - loss: 0.4685 - accuracy: 0.8306\n",
            "Epoch 127/150\n",
            "12/12 [==============================] - 0s 2ms/step - loss: 0.4694 - accuracy: 0.8472\n",
            "Epoch 128/150\n",
            "12/12 [==============================] - 0s 2ms/step - loss: 0.4327 - accuracy: 0.8431\n",
            "Epoch 129/150\n",
            "12/12 [==============================] - 0s 2ms/step - loss: 0.4276 - accuracy: 0.8375\n",
            "Epoch 130/150\n",
            "12/12 [==============================] - 0s 2ms/step - loss: 0.3903 - accuracy: 0.8583\n",
            "Epoch 131/150\n",
            "12/12 [==============================] - 0s 2ms/step - loss: 0.3925 - accuracy: 0.8514\n",
            "Epoch 132/150\n",
            "12/12 [==============================] - 0s 2ms/step - loss: 0.3962 - accuracy: 0.8403\n",
            "Epoch 133/150\n",
            "12/12 [==============================] - 0s 2ms/step - loss: 0.4622 - accuracy: 0.8500\n",
            "Epoch 134/150\n",
            "12/12 [==============================] - 0s 2ms/step - loss: 0.3655 - accuracy: 0.8778\n",
            "Epoch 135/150\n",
            "12/12 [==============================] - 0s 2ms/step - loss: 0.4535 - accuracy: 0.8347\n",
            "Epoch 136/150\n",
            "12/12 [==============================] - 0s 2ms/step - loss: 0.4551 - accuracy: 0.8417\n",
            "Epoch 137/150\n",
            "12/12 [==============================] - 0s 2ms/step - loss: 0.3695 - accuracy: 0.8667\n",
            "Epoch 138/150\n",
            "12/12 [==============================] - 0s 2ms/step - loss: 0.3886 - accuracy: 0.8583\n",
            "Epoch 139/150\n",
            "12/12 [==============================] - 0s 2ms/step - loss: 0.4142 - accuracy: 0.8389\n",
            "Epoch 140/150\n",
            "12/12 [==============================] - 0s 2ms/step - loss: 0.3850 - accuracy: 0.8667\n",
            "Epoch 141/150\n",
            "12/12 [==============================] - 0s 2ms/step - loss: 0.3852 - accuracy: 0.8569\n",
            "Epoch 142/150\n",
            "12/12 [==============================] - 0s 2ms/step - loss: 0.3812 - accuracy: 0.8708\n",
            "Epoch 143/150\n",
            "12/12 [==============================] - 0s 2ms/step - loss: 0.4334 - accuracy: 0.8444\n",
            "Epoch 144/150\n",
            "12/12 [==============================] - 0s 2ms/step - loss: 0.4770 - accuracy: 0.8333\n",
            "Epoch 145/150\n",
            "12/12 [==============================] - 0s 2ms/step - loss: 0.3735 - accuracy: 0.8722\n",
            "Epoch 146/150\n",
            "12/12 [==============================] - 0s 2ms/step - loss: 0.4423 - accuracy: 0.8333\n",
            "Epoch 147/150\n",
            "12/12 [==============================] - 0s 2ms/step - loss: 0.4998 - accuracy: 0.8250\n",
            "Epoch 148/150\n",
            "12/12 [==============================] - 0s 2ms/step - loss: 0.3949 - accuracy: 0.8556\n",
            "Epoch 149/150\n",
            "12/12 [==============================] - 0s 2ms/step - loss: 0.3859 - accuracy: 0.8639\n",
            "Epoch 150/150\n",
            "12/12 [==============================] - 0s 2ms/step - loss: 0.3630 - accuracy: 0.8722\n"
          ]
        },
        {
          "output_type": "execute_result",
          "data": {
            "text/plain": [
              "<keras.callbacks.History at 0x7f201dd00940>"
            ]
          },
          "metadata": {},
          "execution_count": 35
        }
      ]
    },
    {
      "cell_type": "code",
      "source": [
        "y_pred = ann.predict(X_test)\n",
        "#Converting predictions to label\n",
        "pred = list()\n",
        "for i in range(len(y_pred)):\n",
        "    pred.append(np.argmax(y_pred[i]))\n",
        "#Converting one hot encoded test label to label\n",
        "test = list()\n",
        "for i in range(len(Y_test)):\n",
        "    test.append(np.argmax(Y_test[i]))"
      ],
      "metadata": {
        "colab": {
          "base_uri": "https://localhost:8080/"
        },
        "id": "2xEwMjhi6tWI",
        "outputId": "9b5c000c-41ec-4cb5-a209-a2f301845cd1"
      },
      "execution_count": null,
      "outputs": [
        {
          "output_type": "stream",
          "name": "stdout",
          "text": [
            "6/6 [==============================] - 0s 2ms/step\n"
          ]
        }
      ]
    },
    {
      "cell_type": "code",
      "source": [
        "from sklearn.metrics import accuracy_score\n",
        "a = accuracy_score(pred,test)\n",
        "print('Accuracy is:', a*100)"
      ],
      "metadata": {
        "colab": {
          "base_uri": "https://localhost:8080/"
        },
        "id": "v1DcgKsqDF0K",
        "outputId": "af103108-8e62-48b0-dc34-7cc1fd3f9727"
      },
      "execution_count": null,
      "outputs": [
        {
          "output_type": "stream",
          "name": "stdout",
          "text": [
            "Accuracy is: 85.0\n"
          ]
        }
      ]
    },
    {
      "cell_type": "code",
      "source": [
        "cm = confusion_matrix(test, pred)\n",
        "sns.heatmap(cm, annot=True, fmt='d') # annot=True : memunculkan angka pada heatmap, fmt='d' : mengubah scientific notation menjadi digit saja\n",
        "plt.xlabel('Prediction')\n",
        "plt.ylabel('Actual')\n",
        "plt.title('Confusion Matrix')\n",
        "plt.show()"
      ],
      "metadata": {
        "colab": {
          "base_uri": "https://localhost:8080/",
          "height": 295
        },
        "id": "uNBDoUKTEZLI",
        "outputId": "099a1ce3-df7b-413f-cace-3efe78fd1aad"
      },
      "execution_count": null,
      "outputs": [
        {
          "output_type": "display_data",
          "data": {
            "text/plain": [
              "<Figure size 432x288 with 2 Axes>"
            ],
            "image/png": "[encoded data removed]"
          },
          "metadata": {
            "needs_background": "light"
          }
        }
      ]
    },
    {
      "cell_type": "code",
      "source": [],
      "metadata": {
        "id": "XYwQsjaY1Wkn"
      },
      "execution_count": null,
      "outputs": []
    }
  ]
}